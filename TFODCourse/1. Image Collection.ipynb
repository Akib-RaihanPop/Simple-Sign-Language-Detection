{
 "cells": [
  {
   "cell_type": "markdown",
   "metadata": {},
   "source": [
    "# 1. Import Dependencies"
   ]
  },
  {
   "cell_type": "code",
   "execution_count": 1,
   "metadata": {},
   "outputs": [
    {
     "name": "stdout",
     "output_type": "stream",
     "text": [
      "Collecting opencv-python\n",
      "  Using cached opencv_python-4.6.0.66-cp36-abi3-win_amd64.whl (35.6 MB)\n",
      "Collecting numpy>=1.19.3\n",
      "  Downloading numpy-1.23.3-cp39-cp39-win_amd64.whl (14.7 MB)\n",
      "     --------------------------------------- 14.7/14.7 MB 11.1 MB/s eta 0:00:00\n",
      "Installing collected packages: numpy, opencv-python\n",
      "Successfully installed numpy-1.23.3 opencv-python-4.6.0.66\n"
     ]
    }
   ],
   "source": [
    "!pip install opencv-python"
   ]
  },
  {
   "cell_type": "code",
   "execution_count": 2,
   "metadata": {},
   "outputs": [],
   "source": [
    "# Import opencv\n",
    "import cv2 \n",
    "\n",
    "# Import uuid\n",
    "import uuid\n",
    "\n",
    "# Import Operating System\n",
    "import os\n",
    "\n",
    "# Import time\n",
    "import time"
   ]
  },
  {
   "cell_type": "markdown",
   "metadata": {},
   "source": [
    "# 2. Define Images to Collect"
   ]
  },
  {
   "cell_type": "code",
   "execution_count": 7,
   "metadata": {},
   "outputs": [],
   "source": [
    "labels = ['thumbsup', 'thumbsdown','livelong']\n",
    "number_imgs = 5"
   ]
  },
  {
   "cell_type": "markdown",
   "metadata": {},
   "source": [
    "# 3. Setup Folders "
   ]
  },
  {
   "cell_type": "code",
   "execution_count": 4,
   "metadata": {},
   "outputs": [],
   "source": [
    "IMAGES_PATH = os.path.join('Tensorflow', 'workspace', 'images', 'collectedimages')"
   ]
  },
  {
   "cell_type": "code",
   "execution_count": 5,
   "metadata": {},
   "outputs": [],
   "source": [
    "if not os.path.exists(IMAGES_PATH):\n",
    "    if os.name == 'posix':\n",
    "        !mkdir -p {IMAGES_PATH}\n",
    "    if os.name == 'nt':\n",
    "         !mkdir {IMAGES_PATH}\n",
    "for label in labels:\n",
    "    path = os.path.join(IMAGES_PATH, label)\n",
    "    if not os.path.exists(path):\n",
    "        !mkdir {path}"
   ]
  },
  {
   "cell_type": "code",
   "execution_count": 8,
   "metadata": {},
   "outputs": [],
   "source": [
    "cap = cv2.VideoCapture(0)\n",
    "while True:\n",
    "    ret, frame = cap.read()\n",
    "    cv2.imshow('Frame',frame)\n",
    "    if cv2.waitKey(1) & 0xFF == ord('q'):\n",
    "            break\n",
    "            \n",
    "cap.release()\n",
    "cv2.destroyAllWindows()"
   ]
  },
  {
   "cell_type": "markdown",
   "metadata": {},
   "source": [
    "# 4. Capture Images"
   ]
  },
  {
   "cell_type": "code",
   "execution_count": 6,
   "metadata": {},
   "outputs": [
    {
     "name": "stdout",
     "output_type": "stream",
     "text": [
      "Collecting images for livelong\n",
      "Collecting image 0\n",
      "Collecting image 1\n",
      "Collecting image 2\n",
      "Collecting image 3\n",
      "Collecting image 4\n"
     ]
    }
   ],
   "source": [
    "for label in labels:\n",
    "    cap = cv2.VideoCapture(0)\n",
    "    print('Collecting images for {}'.format(label))\n",
    "    time.sleep(5)\n",
    "    for imgnum in range(number_imgs):\n",
    "        print('Collecting image {}'.format(imgnum))\n",
    "        ret, frame = cap.read()\n",
    "        imgname = os.path.join(IMAGES_PATH,label,label+'.'+'{}.jpg'.format(str(uuid.uuid1())))\n",
    "        cv2.imwrite(imgname, frame)\n",
    "        cv2.imshow('frame', frame)\n",
    "        time.sleep(2)\n",
    "\n",
    "        if cv2.waitKey(1) & 0xFF == ord('q'):\n",
    "            break\n",
    "cap.release()\n",
    "cv2.destroyAllWindows()"
   ]
  },
  {
   "cell_type": "markdown",
   "metadata": {},
   "source": [
    "# 5. Image Labelling"
   ]
  },
  {
   "cell_type": "code",
   "execution_count": 8,
   "metadata": {},
   "outputs": [
    {
     "name": "stdout",
     "output_type": "stream",
     "text": [
      "Collecting pyqt5\n",
      "  Downloading PyQt5-5.15.7-cp37-abi3-win_amd64.whl (6.8 MB)\n",
      "     ---------------------------------------- 6.8/6.8 MB 2.8 MB/s eta 0:00:00\n",
      "Collecting lxml\n",
      "  Downloading lxml-4.9.1-cp39-cp39-win_amd64.whl (3.6 MB)\n",
      "     ---------------------------------------- 3.6/3.6 MB 3.0 MB/s eta 0:00:00\n",
      "Collecting PyQt5-sip<13,>=12.11\n",
      "  Downloading PyQt5_sip-12.11.0-cp39-cp39-win_amd64.whl (78 kB)\n",
      "     ---------------------------------------- 78.3/78.3 kB 4.5 MB/s eta 0:00:00\n",
      "Collecting PyQt5-Qt5>=5.15.0\n",
      "  Downloading PyQt5_Qt5-5.15.2-py3-none-win_amd64.whl (50.1 MB)\n",
      "     ---------------------------------------- 50.1/50.1 MB 2.4 MB/s eta 0:00:00\n",
      "Installing collected packages: PyQt5-Qt5, PyQt5-sip, lxml, pyqt5\n",
      "Successfully installed PyQt5-Qt5-5.15.2 PyQt5-sip-12.11.0 lxml-4.9.1 pyqt5-5.15.7\n"
     ]
    }
   ],
   "source": [
    "!pip install --upgrade pyqt5 lxml"
   ]
  },
  {
   "cell_type": "code",
   "execution_count": 9,
   "metadata": {},
   "outputs": [],
   "source": [
    "LABELIMG_PATH = os.path.join('Tensorflow', 'labelimg')"
   ]
  },
  {
   "cell_type": "code",
   "execution_count": 10,
   "metadata": {},
   "outputs": [
    {
     "name": "stderr",
     "output_type": "stream",
     "text": [
      "Cloning into 'Tensorflow\\labelimg'...\n"
     ]
    }
   ],
   "source": [
    "if not os.path.exists(LABELIMG_PATH):\n",
    "    !mkdir {LABELIMG_PATH}\n",
    "    !git clone https://github.com/tzutalin/labelImg {LABELIMG_PATH}"
   ]
  },
  {
   "cell_type": "code",
   "execution_count": 11,
   "metadata": {},
   "outputs": [],
   "source": [
    "if os.name == 'posix':\n",
    "    !cd {LABELIMG_PATH} && make qt5py3\n",
    "if os.name =='nt':\n",
    "    !cd {LABELIMG_PATH} && pyrcc5 -o libs/resources.py resources.qrc"
   ]
  },
  {
   "cell_type": "code",
   "execution_count": 12,
   "metadata": {},
   "outputs": [
    {
     "name": "stdout",
     "output_type": "stream",
     "text": [
      "Image:E:\\Object-Detection(TensorFlow)\\TFODCourse\\Tensorflow\\workspace\\images\\collectedimages\\livelong\\livelong.13b35190-39cb-11ed-96e1-a8a159199105.jpg -> Annotation:E:/Object-Detection(TensorFlow)/TFODCourse/Tensorflow/workspace/images/collectedimages/livelong\\livelong.13b35190-39cb-11ed-96e1-a8a159199105.xml\n",
      "Image:E:\\Object-Detection(TensorFlow)\\TFODCourse\\Tensorflow\\workspace\\images\\collectedimages\\livelong\\livelong.14ea02d9-39cb-11ed-ba2e-a8a159199105.jpg -> Annotation:E:/Object-Detection(TensorFlow)/TFODCourse/Tensorflow/workspace/images/collectedimages/livelong\\livelong.14ea02d9-39cb-11ed-ba2e-a8a159199105.xml\n",
      "Image:E:\\Object-Detection(TensorFlow)\\TFODCourse\\Tensorflow\\workspace\\images\\collectedimages\\livelong\\livelong.161f81f1-39cb-11ed-b08e-a8a159199105.jpg -> Annotation:E:/Object-Detection(TensorFlow)/TFODCourse/Tensorflow/workspace/images/collectedimages/livelong\\livelong.161f81f1-39cb-11ed-b08e-a8a159199105.xml\n",
      "Image:E:\\Object-Detection(TensorFlow)\\TFODCourse\\Tensorflow\\workspace\\images\\collectedimages\\livelong\\livelong.17557670-39cb-11ed-901f-a8a159199105.jpg -> Annotation:E:/Object-Detection(TensorFlow)/TFODCourse/Tensorflow/workspace/images/collectedimages/livelong\\livelong.17557670-39cb-11ed-901f-a8a159199105.xml\n",
      "Image:E:\\Object-Detection(TensorFlow)\\TFODCourse\\Tensorflow\\workspace\\images\\collectedimages\\livelong\\livelong.b81ceac5-39cb-11ed-9f1d-a8a159199105.jpg -> Annotation:E:/Object-Detection(TensorFlow)/TFODCourse/Tensorflow/workspace/images/collectedimages/livelong\\livelong.b81ceac5-39cb-11ed-9f1d-a8a159199105.xml\n",
      "Image:E:\\Object-Detection(TensorFlow)\\TFODCourse\\Tensorflow\\workspace\\images\\collectedimages\\livelong\\livelong.b952be38-39cb-11ed-aaac-a8a159199105.jpg -> Annotation:E:/Object-Detection(TensorFlow)/TFODCourse/Tensorflow/workspace/images/collectedimages/livelong\\livelong.b952be38-39cb-11ed-aaac-a8a159199105.xml\n",
      "Cancel creation.\n",
      "Image:E:\\Object-Detection(TensorFlow)\\TFODCourse\\Tensorflow\\workspace\\images\\collectedimages\\livelong\\livelong.ba898a0b-39cb-11ed-8507-a8a159199105.jpg -> Annotation:E:/Object-Detection(TensorFlow)/TFODCourse/Tensorflow/workspace/images/collectedimages/livelong\\livelong.ba898a0b-39cb-11ed-8507-a8a159199105.xml\n",
      "Image:E:\\Object-Detection(TensorFlow)\\TFODCourse\\Tensorflow\\workspace\\images\\collectedimages\\livelong\\livelong.bbc0d99a-39cb-11ed-9a85-a8a159199105.jpg -> Annotation:E:/Object-Detection(TensorFlow)/TFODCourse/Tensorflow/workspace/images/collectedimages/livelong\\livelong.bbc0d99a-39cb-11ed-9a85-a8a159199105.xml\n",
      "Cancel creation.\n",
      "Cancel creation.\n",
      "Cancel creation.\n",
      "Cancel creation.\n",
      "Cancel creation.\n",
      "Image:E:\\Object-Detection(TensorFlow)\\TFODCourse\\Tensorflow\\workspace\\images\\collectedimages\\thumbsdown\\thumbsdown.0d01a2c1-39cb-11ed-9c44-a8a159199105.jpg -> Annotation:E:/Object-Detection(TensorFlow)/TFODCourse/Tensorflow/workspace/images/collectedimages/thumbsdown\\thumbsdown.0d01a2c1-39cb-11ed-9c44-a8a159199105.xml\n",
      "Image:E:\\Object-Detection(TensorFlow)\\TFODCourse\\Tensorflow\\workspace\\images\\collectedimages\\thumbsdown\\thumbsdown.0bcc7f56-39cb-11ed-8e89-a8a159199105.jpg -> Annotation:E:/Object-Detection(TensorFlow)/TFODCourse/Tensorflow/workspace/images/collectedimages/thumbsdown\\thumbsdown.0bcc7f56-39cb-11ed-8e89-a8a159199105.xml\n",
      "Image:E:\\Object-Detection(TensorFlow)\\TFODCourse\\Tensorflow\\workspace\\images\\collectedimages\\thumbsdown\\thumbsdown.0e38c429-39cb-11ed-b91d-a8a159199105.jpg -> Annotation:E:/Object-Detection(TensorFlow)/TFODCourse/Tensorflow/workspace/images/collectedimages/thumbsdown\\thumbsdown.0e38c429-39cb-11ed-b91d-a8a159199105.xml\n",
      "Cancel creation.\n",
      "Image:E:\\Object-Detection(TensorFlow)\\TFODCourse\\Tensorflow\\workspace\\images\\collectedimages\\thumbsdown\\thumbsdown.6e7a669a-39cb-11ed-a253-a8a159199105.jpg -> Annotation:E:/Object-Detection(TensorFlow)/TFODCourse/Tensorflow/workspace/images/collectedimages/thumbsdown\\thumbsdown.6e7a669a-39cb-11ed-a253-a8a159199105.xml\n",
      "Image:E:\\Object-Detection(TensorFlow)\\TFODCourse\\Tensorflow\\workspace\\images\\collectedimages\\thumbsdown\\thumbsdown.6fb132b7-39cb-11ed-88b9-a8a159199105.jpg -> Annotation:E:/Object-Detection(TensorFlow)/TFODCourse/Tensorflow/workspace/images/collectedimages/thumbsdown\\thumbsdown.6fb132b7-39cb-11ed-88b9-a8a159199105.xml\n",
      "Image:E:\\Object-Detection(TensorFlow)\\TFODCourse\\Tensorflow\\workspace\\images\\collectedimages\\thumbsdown\\thumbsdown.70e89db2-39cb-11ed-8393-a8a159199105.jpg -> Annotation:E:/Object-Detection(TensorFlow)/TFODCourse/Tensorflow/workspace/images/collectedimages/thumbsdown\\thumbsdown.70e89db2-39cb-11ed-8393-a8a159199105.xml\n",
      "Image:E:\\Object-Detection(TensorFlow)\\TFODCourse\\Tensorflow\\workspace\\images\\collectedimages\\thumbsdown\\thumbsdown.721e97d5-39cb-11ed-ad0b-a8a159199105.jpg -> Annotation:E:/Object-Detection(TensorFlow)/TFODCourse/Tensorflow/workspace/images/collectedimages/thumbsdown\\thumbsdown.721e97d5-39cb-11ed-ad0b-a8a159199105.xml\n",
      "Image:E:\\Object-Detection(TensorFlow)\\TFODCourse\\Tensorflow\\workspace\\images\\collectedimages\\thumbsup\\thumbsup.03e87803-39cb-11ed-a046-a8a159199105.jpg -> Annotation:E:/Object-Detection(TensorFlow)/TFODCourse/Tensorflow/workspace/images/collectedimages/thumbsup\\thumbsup.03e87803-39cb-11ed-a046-a8a159199105.xml\n",
      "Image:E:\\Object-Detection(TensorFlow)\\TFODCourse\\Tensorflow\\workspace\\images\\collectedimages\\thumbsup\\thumbsup.051c80a1-39cb-11ed-bd1f-a8a159199105.jpg -> Annotation:E:/Object-Detection(TensorFlow)/TFODCourse/Tensorflow/workspace/images/collectedimages/thumbsup\\thumbsup.051c80a1-39cb-11ed-bd1f-a8a159199105.xml\n",
      "Cancel creation.\n",
      "Image:E:\\Object-Detection(TensorFlow)\\TFODCourse\\Tensorflow\\workspace\\images\\collectedimages\\thumbsup\\thumbsup.67caa95e-39cb-11ed-a24b-a8a159199105.jpg -> Annotation:E:/Object-Detection(TensorFlow)/TFODCourse/Tensorflow/workspace/images/collectedimages/thumbsup\\thumbsup.67caa95e-39cb-11ed-a24b-a8a159199105.xml\n",
      "Image:E:\\Object-Detection(TensorFlow)\\TFODCourse\\Tensorflow\\workspace\\images\\collectedimages\\thumbsup\\thumbsup.6560d7e4-39cb-11ed-bb15-a8a159199105.jpg -> Annotation:E:/Object-Detection(TensorFlow)/TFODCourse/Tensorflow/workspace/images/collectedimages/thumbsup\\thumbsup.6560d7e4-39cb-11ed-bb15-a8a159199105.xml\n",
      "Image:E:\\Object-Detection(TensorFlow)\\TFODCourse\\Tensorflow\\workspace\\images\\collectedimages\\thumbsup\\thumbsup.6900ebef-39cb-11ed-b160-a8a159199105.jpg -> Annotation:E:/Object-Detection(TensorFlow)/TFODCourse/Tensorflow/workspace/images/collectedimages/thumbsup\\thumbsup.6900ebef-39cb-11ed-b160-a8a159199105.xml\n",
      "Image:E:\\Object-Detection(TensorFlow)\\TFODCourse\\Tensorflow\\workspace\\images\\collectedimages\\thumbsup\\thumbsup.6695194c-39cb-11ed-bfa7-a8a159199105.jpg -> Annotation:E:/Object-Detection(TensorFlow)/TFODCourse/Tensorflow/workspace/images/collectedimages/thumbsup\\thumbsup.6695194c-39cb-11ed-bfa7-a8a159199105.xml\n"
     ]
    }
   ],
   "source": [
    "!cd {LABELIMG_PATH} && python labelImg.py"
   ]
  },
  {
   "cell_type": "markdown",
   "metadata": {},
   "source": [
    "# 6. Move them into a Training and Testing Partition"
   ]
  },
  {
   "cell_type": "markdown",
   "metadata": {},
   "source": [
    "# OPTIONAL - 7. Compress them for Colab Training"
   ]
  },
  {
   "cell_type": "code",
   "execution_count": 20,
   "metadata": {},
   "outputs": [],
   "source": [
    "TRAIN_PATH = os.path.join('Tensorflow', 'workspace', 'images', 'train')\n",
    "TEST_PATH = os.path.join('Tensorflow', 'workspace', 'images', 'test')\n",
    "ARCHIVE_PATH = os.path.join('Tensorflow', 'workspace', 'images', 'archive.tar.gz')"
   ]
  },
  {
   "cell_type": "code",
   "execution_count": 21,
   "metadata": {},
   "outputs": [],
   "source": [
    "!tar -czf {ARCHIVE_PATH} {TRAIN_PATH} {TEST_PATH}"
   ]
  },
  {
   "cell_type": "code",
   "execution_count": null,
   "metadata": {},
   "outputs": [],
   "source": []
  }
 ],
 "metadata": {
  "kernelspec": {
   "display_name": "tfodj",
   "language": "python",
   "name": "tfodj"
  },
  "language_info": {
   "codemirror_mode": {
    "name": "ipython",
    "version": 3
   },
   "file_extension": ".py",
   "mimetype": "text/x-python",
   "name": "python",
   "nbconvert_exporter": "python",
   "pygments_lexer": "ipython3",
   "version": "3.9.12"
  },
  "toc": {
   "base_numbering": 1,
   "nav_menu": {},
   "number_sections": true,
   "sideBar": true,
   "skip_h1_title": false,
   "title_cell": "Table of Contents",
   "title_sidebar": "Contents",
   "toc_cell": false,
   "toc_position": {},
   "toc_section_display": true,
   "toc_window_display": false
  }
 },
 "nbformat": 4,
 "nbformat_minor": 2
}
